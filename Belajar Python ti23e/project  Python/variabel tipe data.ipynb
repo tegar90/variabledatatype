{
 "cells": [
  {
   "cell_type": "markdown",
   "id": "214cd59c-7596-437a-9438-c8ee17648ab4",
   "metadata": {},
   "source": [
    "<h1>Belajar Variasi dan tipe data</h1><hr>\n",
    "Tipe data di python yaitu <b> integer, float , boolean, string, complex</b>\n",
    "        \n",
    "\n",
    "            "
   ]
  },
  {
   "cell_type": "code",
   "execution_count": 31,
   "id": "0babe7c4-cd6e-4780-98bb-70628355adbb",
   "metadata": {},
   "outputs": [
    {
     "name": "stdout",
     "output_type": "stream",
     "text": [
      "100\n",
      "<class 'int'>\n"
     ]
    }
   ],
   "source": [
    "data_integer = 100\n",
    "data_integer\n",
    "print(data_integer)\n",
    "print(type(data_integer))"
   ]
  },
  {
   "cell_type": "code",
   "execution_count": 9,
   "id": "eda2a027-e510-40c4-b0e3-3d0c4eb2622c",
   "metadata": {},
   "outputs": [
    {
     "name": "stdout",
     "output_type": "stream",
     "text": [
      "10.5\n",
      "<class 'float'>\n"
     ]
    }
   ],
   "source": [
    "data_float = 10.5\n",
    "print(data_float)\n",
    "print(type(data_float))"
   ]
  },
  {
   "cell_type": "code",
   "execution_count": 13,
   "id": "0c52e837-02ea-46c3-830b-51028441f225",
   "metadata": {},
   "outputs": [
    {
     "name": "stdout",
     "output_type": "stream",
     "text": [
      "False\n",
      "<class 'bool'>\n"
     ]
    }
   ],
   "source": [
    "data_boolean = False\n",
    "print(data_boolean)\n",
    "print(type(data_boolean))"
   ]
  },
  {
   "cell_type": "code",
   "execution_count": 48,
   "id": "c8ecaad5-c25b-49c5-a4b2-1bf216727c90",
   "metadata": {},
   "outputs": [
    {
     "name": "stdout",
     "output_type": "stream",
     "text": [
      "123\n",
      "<class 'str'>\n"
     ]
    }
   ],
   "source": [
    "data_string = \"123\"\n",
    "print(data_string)\n",
    "print(type(data_string))"
   ]
  },
  {
   "cell_type": "code",
   "execution_count": 16,
   "id": "caf1f1c6-4eb8-422d-ac9c-4a55d39d3fe5",
   "metadata": {},
   "outputs": [
    {
     "name": "stdout",
     "output_type": "stream",
     "text": [
      "(100000000000+56465443215646j)\n",
      "<class 'complex'>\n"
     ]
    }
   ],
   "source": [
    "data_complex = complex(100000000000,56465443215646)\n",
    "print(data_complex)\n",
    "print(type(data_complex))"
   ]
  },
  {
   "cell_type": "markdown",
   "id": "2954638a-335b-4291-a350-76d4c8b0521c",
   "metadata": {},
   "source": [
    "<h2>casting</h2><hr>\n",
    "<font color=\"yellow,red,blue\">casting</font> adalah proses melakukan konversi tipe data <br>\n",
    "<ol>\n",
    "    <li>Sintak casting menggunakan (tipe data)</li>\n",
    "    <li>casting dapat dilakukan untuk semua tipe data</li>\n",
    "</ol>"
   ]
  },
  {
   "cell_type": "code",
   "execution_count": 32,
   "id": "e319c340-5236-43ad-973e-7051167bddb4",
   "metadata": {},
   "outputs": [
    {
     "name": "stdout",
     "output_type": "stream",
     "text": [
      "False\n"
     ]
    }
   ],
   "source": [
    "print(data_boolean)"
   ]
  },
  {
   "cell_type": "code",
   "execution_count": 52,
   "id": "90c85048-d9d7-40cd-b207-5937adf7e62c",
   "metadata": {},
   "outputs": [
    {
     "name": "stdout",
     "output_type": "stream",
     "text": [
      "100\n",
      "10.5\n",
      "(100000000000+56465443215646j)\n",
      "False\n",
      "<class 'str'>\n",
      "<class 'float'>\n",
      "<class 'bool'>\n"
     ]
    }
   ],
   "source": [
    "int_to_string = str(data_integer)\n",
    "int_to_float = float(data_float)\n",
    "int_to_boolean = bool(data_boolean)\n",
    "\n",
    "print(int_to_string)\n",
    "print(int_to_float)\n",
    "print(int_to_complex)\n",
    "print(int_to_boolean)\n",
    "\n",
    "print(type(int_to_string))\n",
    "print(type(int_to_float))\n",
    "print(type(int_to_boolean))"
   ]
  },
  {
   "cell_type": "code",
   "execution_count": 53,
   "id": "09af05c2-63b1-4994-a450-56cf70459e2e",
   "metadata": {},
   "outputs": [
    {
     "name": "stdout",
     "output_type": "stream",
     "text": [
      "name\n",
      "10.5\n",
      "False\n",
      "<class 'str'>\n",
      "<class 'float'>\n",
      "<class 'bool'>\n"
     ]
    }
   ],
   "source": [
    "string_to_string = str(data_string)\n",
    "string_to_float = float(data_string)\n",
    "string_to_complex = complex(data_string)\n",
    "\n",
    "print(str_to_string)\n",
    "print(str_to_float)\n",
    "print(str_to_boolean)\n",
    "\n",
    "print(type(int_to_string))\n",
    "print(type(int_to_float))\n",
    "print(type(int_to_boolean))"
   ]
  },
  {
   "cell_type": "code",
   "execution_count": 56,
   "id": "21986669-a1d5-41a3-899d-79f84c9ca5f1",
   "metadata": {},
   "outputs": [
    {
     "name": "stdout",
     "output_type": "stream",
     "text": [
      "name\n",
      "10.5\n",
      "False\n",
      "<class 'str'>\n",
      "<class 'float'>\n",
      "<class 'bool'>\n"
     ]
    }
   ],
   "source": [
    "boolean_to_int = str(data_string)\n",
    "boolean_to_float = float(data_float)\n",
    "boolean_to_boolean = bool(data_boolean)\n",
    "\n",
    "print(bool_to_int)\n",
    "print(bool_to_float)\n",
    "print(bool_to_boolean)\n",
    "\n",
    "print(type(bool_to_int))\n",
    "print(type(bool_to_float))\n",
    "print(type(bool_to_boolean))"
   ]
  },
  {
   "cell_type": "code",
   "execution_count": 59,
   "id": "adafe26f-2968-409d-a438-5d75f30c02e4",
   "metadata": {},
   "outputs": [
    {
     "name": "stdout",
     "output_type": "stream",
     "text": [
      "123\n",
      "10.5\n",
      "False\n",
      "<class 'str'>\n",
      "<class 'float'>\n",
      "<class 'bool'>\n"
     ]
    }
   ],
   "source": [
    "float_to_int = str(data_string)\n",
    "float_to_float = float(data_float)\n",
    "float_to_boolean = bool(data_boolean)\n",
    "\n",
    "print(float_to_int)\n",
    "print(float_to_float)\n",
    "print(float_to_boolean)\n",
    "\n",
    "print(type(float_to_int))\n",
    "print(type(float_to_float))\n",
    "print(type(float_to_boolean))"
   ]
  }
 ],
 "metadata": {
  "kernelspec": {
   "display_name": "Python 3 (ipykernel)",
   "language": "python",
   "name": "python3"
  },
  "language_info": {
   "codemirror_mode": {
    "name": "ipython",
    "version": 3
   },
   "file_extension": ".py",
   "mimetype": "text/x-python",
   "name": "python",
   "nbconvert_exporter": "python",
   "pygments_lexer": "ipython3",
   "version": "3.9.12"
  }
 },
 "nbformat": 4,
 "nbformat_minor": 5
}
